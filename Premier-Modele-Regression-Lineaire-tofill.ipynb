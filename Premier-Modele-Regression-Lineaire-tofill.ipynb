{
 "cells": [
  {
   "cell_type": "markdown",
   "id": "ed849840",
   "metadata": {},
   "source": [
    "# Plan\n",
    "0. Import des bibliothèques\n",
    "1. Création du jeu de données\n",
    "2. Définition du modèle : fonction linéaire\n",
    "3. Définition des paramètres et de la fonction coût\n",
    "4. Apprentissage de l'algorithme pour minimiser la fonction coût et optimiser les paramètres a et b du modèle\n",
    "\n",
    "5. Extension à une fonction non linéaire\n",
    "6. Augmentation du nombre de caractéristiques (feature)"
   ]
  },
  {
   "cell_type": "code",
   "execution_count": null,
   "id": "8d745e9b",
   "metadata": {},
   "outputs": [],
   "source": [
    "# Import of required libs\n",
    "import numpy as np\n",
    "from sklearn.datasets import make_regression\n",
    "import matplotlib.pyplot as pyplot"
   ]
  },
  {
   "cell_type": "code",
   "execution_count": null,
   "id": "f47ad1bd",
   "metadata": {},
   "outputs": [],
   "source": [
    "# Generate some sample data with some noise\n",
    "x, y = make_regression(n_samples=100, n_features=1, noise=20, n_targets=1)"
   ]
  },
  {
   "cell_type": "code",
   "execution_count": null,
   "id": "a4719a44",
   "metadata": {},
   "outputs": [],
   "source": [
    "# Display the chart thanks to pyplot function in matplotlib\n",
    "pyplot.scatter(x,y)"
   ]
  },
  {
   "cell_type": "code",
   "execution_count": null,
   "id": "5e5fd2b8",
   "metadata": {},
   "outputs": [],
   "source": [
    "# vérifier les dimensions des matrices\n",
    "print(type(x))\n",
    "# TODO\n",
    "y"
   ]
  },
  {
   "cell_type": "code",
   "execution_count": null,
   "id": "575cdeed",
   "metadata": {
    "scrolled": true
   },
   "outputs": [],
   "source": [
    "x"
   ]
  },
  {
   "cell_type": "code",
   "execution_count": null,
   "id": "d54e69fe",
   "metadata": {
    "scrolled": true
   },
   "outputs": [],
   "source": [
    "y = y.reshape(y.shape[0],1)\n",
    "print(f'x.shape={x.shape} y.shape={y.shape}')\n"
   ]
  },
  {
   "cell_type": "code",
   "execution_count": null,
   "id": "4770d7fc",
   "metadata": {},
   "outputs": [],
   "source": [
    "# générer aléatoirement un vecteur de 2 éléments\n",
    "theta\n",
    "# TODO"
   ]
  },
  {
   "cell_type": "code",
   "execution_count": null,
   "id": "6624660c",
   "metadata": {
    "scrolled": true
   },
   "outputs": [],
   "source": [
    "# Préparation de la matrice X\n",
    "# Utilisation de hstack\n",
    "X"
   ]
  },
  {
   "cell_type": "markdown",
   "id": "f55ce3a6",
   "metadata": {},
   "source": [
    "# Modèle"
   ]
  },
  {
   "cell_type": "code",
   "execution_count": null,
   "id": "d86ce28f",
   "metadata": {},
   "outputs": [],
   "source": [
    "def model(x, theta):\n",
    "    pass\n",
    "# TODO\n"
   ]
  },
  {
   "cell_type": "code",
   "execution_count": null,
   "id": "0495ab70",
   "metadata": {},
   "outputs": [],
   "source": [
    "# afficher les valeurs du jeu de données\n",
    "result = model(X, theta)\n",
    "# afficher le résultat du model sur le graphique\n",
    "print(f'Type: {type(result).__name__}, Dimensions: {result.shape}')\n",
    "# Display scatter plot\n",
    "# Display plot"
   ]
  },
  {
   "cell_type": "markdown",
   "id": "92ee42ef",
   "metadata": {},
   "source": [
    "# Coût / Erreur"
   ]
  },
  {
   "cell_type": "code",
   "execution_count": null,
   "id": "ba9b6aa8",
   "metadata": {},
   "outputs": [],
   "source": [
    "X.shape[0]"
   ]
  },
  {
   "cell_type": "code",
   "execution_count": null,
   "id": "49b20d61",
   "metadata": {},
   "outputs": [],
   "source": [
    "def cost(x, y, theta):\n",
    "    pass\n",
    "# TODO\n"
   ]
  },
  {
   "cell_type": "code",
   "execution_count": null,
   "id": "c9b7a99e",
   "metadata": {},
   "outputs": [],
   "source": [
    "cost(X,y,theta)"
   ]
  },
  {
   "cell_type": "markdown",
   "id": "00b1509e",
   "metadata": {},
   "source": [
    "# Descente de gradient"
   ]
  },
  {
   "cell_type": "code",
   "execution_count": null,
   "id": "2412f375",
   "metadata": {},
   "outputs": [],
   "source": [
    "def gradient(x, y, theta):\n",
    "    m = x.shape[0]\n",
    "    pass\n",
    "    # TODO\n"
   ]
  },
  {
   "cell_type": "code",
   "execution_count": null,
   "id": "f7a3d6e5",
   "metadata": {},
   "outputs": [],
   "source": [
    "def gradient_descent(x, y, theta, learning_rate, n_iter):\n",
    "    # TODO\n",
    "    return theta_final"
   ]
  },
  {
   "cell_type": "markdown",
   "id": "438ca3f4",
   "metadata": {},
   "source": [
    "# Entrainement"
   ]
  },
  {
   "cell_type": "code",
   "execution_count": null,
   "id": "e406e598",
   "metadata": {
    "scrolled": true
   },
   "outputs": [],
   "source": [
    "np.delete(X, 1, 1)"
   ]
  },
  {
   "cell_type": "code",
   "execution_count": null,
   "id": "bc8e739c",
   "metadata": {
    "scrolled": true
   },
   "outputs": [],
   "source": [
    "pyplot.scatter(x, y, color = 'b')\n"
   ]
  },
  {
   "cell_type": "code",
   "execution_count": null,
   "id": "3f76c048",
   "metadata": {},
   "outputs": [],
   "source": [
    "# afficher les données brutes du jeu de données\n",
    "pyplot.scatter(x, y)\n",
    "# afficher le résultat du modèle initial\n",
    "pyplot.plot(x, model(X, theta), color = 'red')\n",
    "# afficher le résultat du modèle entrainé\n",
    "pyplot.plot(x, model(X, theta_final), color = 'green')\n"
   ]
  }
 ],
 "metadata": {
  "kernelspec": {
   "display_name": "Python 3 (ipykernel)",
   "language": "python",
   "name": "python3"
  },
  "language_info": {
   "codemirror_mode": {
    "name": "ipython",
    "version": 3
   },
   "file_extension": ".py",
   "mimetype": "text/x-python",
   "name": "python",
   "nbconvert_exporter": "python",
   "pygments_lexer": "ipython3",
   "version": "3.11.5"
  }
 },
 "nbformat": 4,
 "nbformat_minor": 5
}
